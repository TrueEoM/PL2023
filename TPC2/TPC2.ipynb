{
 "cells": [
  {
   "cell_type": "markdown",
   "id": "32db9873-c221-4693-809c-d4780c80e84c",
   "metadata": {
    "id": "6nFoODdAH7Ha",
    "tags": []
   },
   "source": [
    "# TPC2: Somador on/off\n",
    "\n",
    "Crie um programa em Python que tenha o seguinte comportamento:\n",
    "\n",
    "  * Pretende-se um programa que some todas as sequências de dígitos que encontre num texto;\n",
    "  * Prepare o programa para ler o texto do canal de entrada: stdin;\n",
    "  * Sempre que encontrar a string “Off” em qualquer combinação de maiúsculas e minúsculas, esse comportamento é desligado;\n",
    "  * Sempre que encontrar a string “On” em qualquer combinação de maiúsculas e minúsculas, esse comportamento é novamente ligado;\n",
    "  * Sempre que encontrar o caráter “=”, o resultado da soma é colocado na saída.\n"
   ]
  },
  {
   "cell_type": "code",
   "execution_count": null,
   "id": "1b9a3937-256b-41c3-9638-05e97b7600ba",
   "metadata": {
    "tags": []
   },
   "outputs": [
    {
     "name": "stdin",
     "output_type": "stream",
     "text": [
      " a1 b2 c3\n",
      " ads1 ads= asd OfF\n"
     ]
    },
    {
     "name": "stdout",
     "output_type": "stream",
     "text": [
      "7\n"
     ]
    },
    {
     "name": "stdin",
     "output_type": "stream",
     "text": [
      " ads4 as= as On s=\n"
     ]
    },
    {
     "name": "stdout",
     "output_type": "stream",
     "text": [
      "7\n"
     ]
    }
   ],
   "source": [
    "def interp():\n",
    "    counter = 0\n",
    "    working = True\n",
    "    while True:\n",
    "        \n",
    "        s = \"\"\n",
    "        subStrs = []\n",
    "        prevDigit = stdin[0].isdigit()\n",
    "\n",
    "        for c in stdin:\n",
    "            curDigit = c.isdigit()\n",
    "            if curDigit != prevDigit:\n",
    "                if prevDigit == True:\n",
    "                    subStrs.append(s)\n",
    "                else:\n",
    "                    subStrs += s.split(\" \")\n",
    "                s = \"\"\n",
    "                prevDigit = curDigit\n",
    "\n",
    "            s += c\n",
    "            \n",
    "        if prevDigit == True:\n",
    "            subStrs.append(s)\n",
    "        else:\n",
    "            subStrs += s.split(\" \")\n",
    "        \n",
    "        for sub in subStrs:\n",
    "            if sub.isdigit() and working == True:\n",
    "                counter += int(sub)\n",
    "            else:\n",
    "                if sub.lower() == \"off\" or (sub.lower()).__contains__(\" off \"):\n",
    "                    working = False\n",
    "                if sub.lower() == \"on\" or (sub.lower()).__contains__(\" on \"):\n",
    "                    working = True\n",
    "                if sub.__contains__('=') and working == True:\n",
    "                    print(counter)\n",
    "        \n",
    "interp()"
   ]
  }
 ],
 "metadata": {
  "kernelspec": {
   "display_name": "Python 3 (ipykernel)",
   "language": "python",
   "name": "python3"
  },
  "language_info": {
   "codemirror_mode": {
    "name": "ipython",
    "version": 3
   },
   "file_extension": ".py",
   "mimetype": "text/x-python",
   "name": "python",
   "nbconvert_exporter": "python",
   "pygments_lexer": "ipython3",
   "version": "3.11.2"
  }
 },
 "nbformat": 4,
 "nbformat_minor": 5
}
