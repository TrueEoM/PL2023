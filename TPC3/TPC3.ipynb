{
 "cells": [
  {
   "cell_type": "markdown",
   "id": "f4ca5be2-a0f5-443a-9761-abac34923dc0",
   "metadata": {},
   "source": [
    "#TPC3: Processador de Pessoas listadas nos Róis de Confessados\n",
    "\n",
    "(publicado em **2023.02.28**)\n",
    "\n",
    "Construa agora um ou vários programas Python\n",
    "para  processar o texto 'processos.txt' (procurar o ficheiro no Bb) com o intuito de\n",
    "calcular frequências de alguns elementos (a ideia é utilizar arrays associativos, dicionários em Python,\n",
    "para o efeito) conforme solicitado a seguir:\n",
    "\n",
    "> a) Calcula a frequência de processos por ano (primeiro elemento da data);\n",
    "\n",
    "> b) Calcula a frequência de nomes próprios (o primeiro em cada nome) e apelidos (o ultimo em cada nome) por séculos e apresenta os 5 mais usados;\n",
    "\n",
    "> c) Calcula a frequência dos vários tipos de relação: irmão, sobrinho, etc.;\n",
    "\n",
    "> d) Converta os 20 primeiros registos num novo ficheiro de output mas em formato **Json**."
   ]
  },
  {
   "cell_type": "markdown",
   "id": "5d3b956d-7313-47c6-8c72-991d7fe817a0",
   "metadata": {},
   "source": [
    "a) Calcula a frequência de processos por ano (primeiro elemento da data)"
   ]
  },
  {
   "cell_type": "code",
   "execution_count": 61,
   "id": "098df42a-cb55-4630-89b7-3d9d776052c6",
   "metadata": {},
   "outputs": [
    {
     "name": "stdout",
     "output_type": "stream",
     "text": [
      "{1894: 74, 1909: 39, 1867: 54, 1896: 75, 1904: 52, 1901: 59, 1883: 34, 1900: 50, 1902: 83, 1880: 62, 1889: 71, 1908: 51, 1869: 39, 1862: 40, 1906: 63, 1856: 72, 1875: 15, 1892: 57, 1733: 1188, 1778: 1066, 1691: 1084, 1730: 1200, 1899: 80, 1898: 91, 1877: 47, 1910: 27, 1881: 64, 1907: 47, 1884: 44, 1879: 55, 1895: 78, 1897: 71, 1707: 116, 1689: 628, 1713: 266, 1824: 251, 1703: 143, 1720: 172, 1890: 44, 1732: 2217, 1683: 142, 1863: 30, 1729: 47, 1694: 49, 1765: 9, 1754: 303, 1690: 278, 1755: 303, 1823: 213, 1708: 150, 1757: 32, 1699: 97, 1759: 90, 1712: 70, 1687: 97, 1738: 213, 1717: 267, 1684: 238, 1704: 358, 1688: 110, 1888: 70, 1734: 888, 1786: 352, 1798: 56, 1773: 482, 1821: 312, 1822: 303, 1809: 292, 1722: 457, 1680: 158, 1695: 44, 1728: 440, 1716: 238, 1849: 120, 1777: 1142, 1851: 66, 1785: 797, 1857: 80, 1686: 189, 1784: 361, 1780: 218, 1727: 169, 1788: 416, 1719: 387, 1847: 130, 1799: 103, 1829: 162, 1787: 743, 1805: 109, 1819: 242, 1844: 196, 1891: 73, 1731: 900, 1760: 280, 1741: 32, 1725: 272, 1802: 90, 1827: 97, 1885: 8, 1807: 602, 1710: 199, 1692: 246, 1706: 117, 1858: 46, 1739: 74, 1826: 171, 1714: 317, 1762: 342, 1743: 53, 1724: 110, 1697: 28, 1852: 74, 1740: 13, 1855: 86, 1723: 129, 1859: 87, 1811: 237, 1817: 207, 1685: 235, 1905: 42, 1893: 78, 1865: 40, 1848: 125, 1911: 16, 1882: 50, 1735: 153, 1871: 35, 1903: 20, 1850: 115, 1825: 155, 1843: 296, 1860: 77, 1812: 259, 1846: 86, 1845: 127, 1701: 108, 1746: 49, 1868: 22, 1715: 90, 1803: 167, 1830: 174, 1761: 381, 1766: 9, 1672: 17, 1876: 40, 1698: 153, 1726: 85, 1679: 83, 1750: 53, 1711: 75, 1810: 47, 1756: 75, 1721: 135, 1873: 46, 1831: 193, 1781: 208, 1818: 229, 1816: 352, 1783: 309, 1752: 80, 1866: 33, 1747: 58, 1771: 26, 1700: 82, 1682: 106, 1794: 57, 1742: 22, 1887: 42, 1836: 3, 1878: 76, 1886: 46, 1702: 139, 1767: 15, 1709: 148, 1779: 198, 1751: 107, 1681: 101, 1748: 46, 1678: 12, 1839: 85, 1770: 27, 1673: 19, 1792: 46, 1796: 86, 1828: 172, 1736: 47, 1737: 65, 1696: 42, 1853: 90, 1772: 122, 1718: 92, 1776: 36, 1804: 123, 1774: 38, 1832: 301, 1806: 106, 1820: 253, 1808: 311, 1854: 112, 1861: 62, 1833: 194, 1841: 47, 1705: 76, 1872: 42, 1874: 46, 1782: 155, 1693: 28, 1838: 10, 1797: 46, 1660: 1, 1864: 56, 1870: 12, 1744: 41, 1800: 107, 1655: 2, 1795: 55, 1840: 38, 1764: 24, 1763: 29, 1676: 9, 1768: 27, 1753: 37, 1842: 36, 1671: 14, 1801: 58, 1814: 11, 1815: 45, 1758: 22, 1749: 27, 1775: 30, 1745: 47, 1834: 13, 1769: 16, 1793: 45, 1665: 2, 1813: 12, 1635: 1, 1616: 1, 1791: 6, 1631: 2, 1658: 2, 1664: 5, 1789: 12, 1623: 3, 1675: 9, 1677: 6, 1666: 6, 1663: 3, 1674: 3, 1668: 5, 1661: 1, 1630: 4, 1628: 7, 1670: 3, 1633: 2, 1632: 3, 1669: 3, 1636: 1, 1667: 1, 1634: 1, 1625: 2, 1656: 2, 1620: 1, 1629: 1, 1622: 1, 1627: 2, 1790: 1, 1650: 1, 1662: 1}\n"
     ]
    }
   ],
   "source": [
    "import re\n",
    "\n",
    "def proc_by_year():\n",
    "    freq = dict()\n",
    "    \n",
    "    with open(\"processos.txt\") as f:\n",
    "        content = f.readlines()\n",
    "        for line in content:\n",
    "            for x in re.findall(r\"^\\d+::(\\d{4})-[0-1][0-9]-[0-3][0-9]::\", line):\n",
    "                freq[int(x)] = freq.get(int(x), 0) + 1\n",
    "    \n",
    "    return freq\n",
    "\n",
    "print(proc_by_year())"
   ]
  },
  {
   "cell_type": "markdown",
   "id": "49ba048e-f728-4d9c-8dbb-23f3e53ba3bf",
   "metadata": {},
   "source": [
    "b) Calcula a frequência de nomes próprios (o primeiro em cada nome) e apelidos (o ultimo em cada nome) por séculos e apresenta os 5 mais usados"
   ]
  },
  {
   "cell_type": "code",
   "execution_count": 40,
   "id": "e07370a3-3804-4bbf-9818-6f0f63c7da4f",
   "metadata": {
    "tags": []
   },
   "outputs": [
    {
     "name": "stdout",
     "output_type": "stream",
     "text": [
      "Min: 1616\n",
      "Max: 1911\n"
     ]
    }
   ],
   "source": [
    "def min_max_years():\n",
    "    minY = 10000000\n",
    "    maxY = 0\n",
    "    with open(\"processos.txt\") as f:\n",
    "        content = f.readlines()\n",
    "        for line in content:\n",
    "            for year in re.findall(r\"^\\d+::(\\d{4})-[0-1][0-9]-[0-3][0-9]::\", line):\n",
    "                if minY > int(year):\n",
    "                    minY = int(year)\n",
    "                elif maxY < int(year):\n",
    "                    maxY = int(year)\n",
    "    \n",
    "    print(\"Min:\",minY)\n",
    "    print(\"Max:\",maxY)\n",
    "    \n",
    "min_max_years()"
   ]
  },
  {
   "cell_type": "code",
   "execution_count": 59,
   "id": "9c8089c2-3849-4e27-bac1-8d5e3de24179",
   "metadata": {
    "tags": []
   },
   "outputs": [
    {
     "name": "stdout",
     "output_type": "stream",
     "text": [
      "Top 5 First Names by Century\n",
      "17 Century: [('Manuel', 611), ('Joao', 602), ('Antonio', 499), ('Francisco', 423), ('Domingos', 283)]\n",
      "18 Century: [('Manuel', 3893), ('Joao', 3010), ('Antonio', 2864), ('Jose', 2545), ('Francisco', 2103)]\n",
      "19 Century: [('Jose', 2089), ('Antonio', 1838), ('Manuel', 1511), ('Joao', 1270), ('Francisco', 852)]\n",
      "20 Century: [('Antonio', 100), ('Jose', 86), ('Manuel', 83), ('Joao', 34), ('Joaquim', 17)]\n",
      "\n",
      "\n",
      "Top 5 Last Names by Century\n",
      "17 Century: [('Silva', 176), ('Pereira', 169), ('Costa', 149), ('Araujo', 144), ('Carvalho', 109)]\n",
      "18 Century: [('Pereira', 978), ('Silva', 910), ('Costa', 792), ('Carvalho', 726), ('Araujo', 673)]\n",
      "19 Century: [('Pereira', 436), ('Silva', 428), ('Costa', 346), ('Sousa', 304), ('Araujo', 266)]\n",
      "20 Century: [('Silva', 27), ('Costa', 22), ('Oliveira', 16), ('Ferreira', 15), ('Pereira', 14)]\n"
     ]
    }
   ],
   "source": [
    "def top_name():\n",
    "    ranges = []\n",
    "    fnames = dict()\n",
    "    lnames = dict()\n",
    "    for i, x in enumerate(range(1601, 2001, 100)):\n",
    "        ranges.append((x,x+99))\n",
    "        fnames[16 + i] = dict()\n",
    "        lnames[16 + i] = dict()\n",
    "    \n",
    "    with open(\"processos.txt\") as f:\n",
    "        content = f.readlines()\n",
    "        for line in content:\n",
    "            for century, fname, lname in re.findall(r\"^\\d+::(\\d{2})\\d{2}-[0-1][0-9]-[0-3][0-9]::([a-zA-Z]+)[\\s\\w]*?([a-zA-Z]+)::\", line):\n",
    "                fnames[int(century)][fname] = fnames[int(century)].get(fname, 0) + 1\n",
    "                lnames[int(century)][lname] = lnames[int(century)].get(lname, 0) + 1\n",
    "    \n",
    "    print(\"Top 5 First Names by Century\")\n",
    "    for cent in fnames:\n",
    "        sorted_fnames = sorted(fnames[cent].items(), key=lambda x:x[1], reverse=True)\n",
    "        print(cent+1, \"Century:\", sorted_fnames[0:5])\n",
    "    \n",
    "    print(\"\\n\\nTop 5 Last Names by Century\")\n",
    "    for cent in lnames:\n",
    "        sorted_lnames = sorted(lnames[cent].items(), key=lambda x:x[1], reverse=True)\n",
    "        print(cent+1, \"Century:\", sorted_lnames[0:5])\n",
    "\n",
    "top_name()"
   ]
  },
  {
   "cell_type": "markdown",
   "id": "76e9614a-01f8-4d2c-a4c0-b91863be3fdb",
   "metadata": {},
   "source": [
    "c) Calcula a frequência dos vários tipos de relação: irmão, sobrinho, etc."
   ]
  },
  {
   "cell_type": "code",
   "execution_count": 67,
   "id": "387d8534-1b33-42d6-b3aa-2a86bd3eb1c3",
   "metadata": {
    "tags": []
   },
   "outputs": [
    {
     "name": "stdout",
     "output_type": "stream",
     "text": [
      "{'Tio Paterno': 2245, 'Tio Materno': 2463, 'Irmao': 13168, 'Primo Paterno': 205, ' mudou no Crisma para ABILIO JOSE': 2, ' fls': 195, 'Sobrinho Materno': 1698, 'Padre': 358, 'Viuva': 12, 'Pai': 525, 'Filho': 346, 'Sobrinho Paterno': 1642, ' em 1703': 3, 'Irmaos': 581, ' em 1719': 3, 'Sobrinhos Maternos': 82, 'Solteira': 778, ' em 1695': 3, 'Irmao Paterno': 497, ' em 1648': 1, 'Solteiro': 36, 'Neto Materno': 41, ' Joao Lobo Manuel e  Mateus Lobo Manuel': 1, 'Sobrinho Neto Paterno': 97, 'com o nome de Frei Agostinho de Santo Antonio': 1, 'Primo': 673, 'Primo Materno': 283, '  mudou no Crisma para ALBANO SIL': 1, 'Tio Avo Paterno': 154, 'Tio Avo Materno': 230, 'Irmao Materno': 55, 'Sobrinho Bisneto Paterno': 3, 'Tios Maternos': 18, ' feita em 1716': 2, 'feita em 1719': 2, 'Santa Marinha': 36, ' Joao Brandao Velho Barreto  e  Vasco Xavier Brandao Velho Barreto': 2, 'Santiago': 8, ' feita em 1860': 1, ' mudou no Crisma para  ALVARO': 1, ' em 1689': 1, 'Irmaos Paternos': 17, 'Exposta': 6, 'Sao Tome': 34, 'Sao Vicente': 5, ' feita em 1730': 1, 'Sobrinho Neto Materno': 145, ' Jose Pinto Ribeiro Seixas  ePedro Xavier Ribeiro Seixas': 1, '  Jose Abreu Coutinho  e  Francisco Abreu Coutinho': 1, ' feita em 1751': 3, ' doc': 11, ' feita em 1754': 2, ' feita em 1744': 9, 'Sobrinhos Paternos': 45, ' em 1723': 2, ' Jose Carlos Araujo Vasconcelos  e Pedro Antonio Araujo Vasconcelos': 1, ' em 1671': 1, ' feita em 1749': 2, ' em 1681': 2, ' Joaquim Antonio Barreto Meneses': 2, 'Avo Materno': 48, 'Bisavo Materno': 2, ' para se ordenar no Bispadode Lamego': 3, 'Filhos': 25, ' em 1713': 2, 'fls': 14, ' feita em 1694': 3, ' feita em 1701': 5, ' feita em 1752': 4, 'Avo Paterno': 11, ' Jose Cerqueira': 2, 'Francisco Coimbra': 1, ' feita em 1680': 1, ' mudou no Crisma para ANTONIO': 2, ' feita em 1719': 2, ' em 1745': 3, 'feita em 1730': 2, '  Joao Faria Machado': 1, ' em 1715': 1, 'Neto Paterno': 8, 'Sao Miguel': 12, 'Tios Paternos': 11, ' Francisco Faria Machado  e  Manuel Fonseca Azevedo': 3, ' feita em 1720': 3, ' de Francisco Alvares': 1, ' feita em 1830': 1, ' mudou no  Crisma para ANTONIO': 1, 'Santa Eulalia': 23, 'Tio Bisavo Materno': 5, 'Sao Pedro': 3, ' feita em 1756': 2, ' feita em 1828': 1, ' feita em 1778': 1, ' feita em 1747': 4, ' antes do Crisma': 2, '  mudou no Crisma para ANTONIOJOSE': 1, ' Gaspar Falcao Cota': 1, 'Primos': 9, ' com o nome de Antonio Goncalves': 1, ' Francisco Abreu Coutinho': 1, ' Jose Luis Gomes  e  Narciso Antonio Gomes Dantas': 2, ' Miguel Pinheiro': 4, ' em 1718': 3, ' em1700': 1, ' em 1741': 4, 'Sao Silvestre': 2, ' em 1701': 1, ' em 1686': 2, '  Joao Pereira Lago  e  Miguel Pereira Lago': 1, ' Manuel Pereira Rocha Tinoco e  Roque Pereira Araujo': 1, ' em 1722': 2, ' para de ordenar no Bispado de Lamego': 1, '  e  Inquiricao de Domingos': 1, 'Jeronimo Silva Coelho': 1, '  Jose Oliveira   e   Matias Silva': 2, ' Manuel Sousa Teles  e  Matias Ribeiro': 1, 'Sao Simao': 7, ' em 1710': 2, ' em 1714': 4, 'feita em 1692': 1, ' mudou  no  Crisma para  ANTONIO': 1, ' em1687': 1, ' Luis Jacome Sousa  e Simao Jacome Sousa': 3, ' em1729': 1, ' Pedro Antonio Sousa   e   Tome Jose Sousa': 1, ' com o nome de Arcanjo Ferraz Mota': 1, 'Viuvo': 5, ' feita em 1695': 8, ' Luis Sousa Guedes   e   Vicente Sousa Pereira': 1, ' Manuel Pinto Castro  e  Pedro Pinto Castro': 2, 'Heitor Arrochela Loborao   e   Joao Arrochela Leite': 1, ' com o nome  de  Bento Carneiro Costa': 1, ' em 1682': 2, '  com  seus irmaos': 1, ' Francisco Coimbra': 1, ' com o nome de Bento Cunha': 1, ' feita em 1816': 1, 'Sao Martinho': 5, 'Parente': 4, ' com  o  nome de  Bento Jose': 1, 'doc': 1, ' Joao Carlos Machado Araujo e  Pedro Jose Machado Araujo': 2, ' Damiao Coelho Silva e Joao Melo Lima': 1, ' Francisco Antonio Melo  e   Joao Antonio Melo': 2, ' em 1708': 2, ' Joao Silva Teles': 1, ' Felix Tomas Rocha  e   Tomas Joaquim Rocha': 2, ' Jose Antonio Faria  e   Simao Peixoto Faria': 1, 'Primos Paternos': 1, ' feita em 1745': 5, ' em 1721': 4, ' em 1724': 2, ' hoje LAMA ARCOS': 5, 'Tio Bisavo Paterno': 6, ' em 1737': 1, ' em 1728': 3, ' Francisco Jose Sousa': 3, ' feita em 1788': 1, ' feitaem 1788': 1, ' em 1739': 3, ' Joao Soares Brito  e  Luis Pinto Almeida': 1, ' Jose Manuel Sousa': 2, 'Santa Maria': 14, ' e um Inventario': 1, ' Joao Araujo Azevedo': 1, ' com o nome  de  Custodio Ribeiro Araujo': 1, ' Jose Antonio Sousa  e  Manuel Jose Ribeiro': 2, ' em 1704': 2, ' em 1683': 1, ' em 1733': 9, ' Francisco Manuel Gouveia  e  Pedro Malheiro Gouveia Coutinho Castro': 1, '  Francisco Sales Barbosa Araujo Pereira  e  Luis Caetano Barbosa Araujo Pereira': 1, ' Manuel Pereira   e   Pedro Pereira': 1, ' Luis Sousa Guedes e  Vicente Sousa Pereira': 1, 'Sobrinhos Netos Paternos': 2, ' feita em 1690': 3, ' feita em 1705': 1, ' feitas em 1700': 2, '  a favor de Joao Faria Monteiro': 1, ' 1698 e 1699': 1, ' em 1661': 1, 'feita em 1755': 3, ' feita em 1817': 2, ' em 1734': 1, ' no Proc': 1, ' de seu Sobrinho Neto': 1, ' Jose Silva  e  Manuel Silva': 2, ' e Justificacao de Antonio': 1, ' mudou no Crisma para DUARTE': 1, ' Manuel Falcao Cota  e  Pedro Falcao Cota': 2, ' em 1684': 1, ' Miguel Antonio Barreto Meneses  e Pedro Antonio Barreto Meneses': 1, ' feita em 1741': 3, '  Jose Peixoto Silva  e  Manuel Peixoto Silva': 1, ' feita em 1723': 1, ' Manuel Geraldo Sousa  e   Pedro Jose Sousa': 1, ' Joao Abreu Coutinho  e  Jose Abreu Coutinho': 1, '  e  Justificacao de  Joao': 1, ' de Antonio Goncalves': 1, ' Joao Filipe Araujo   e    Jose Antonio Barbosa Soares': 2, ' Jose Lima Noronha  e  Nuno Alvares Pereira Noronha': 3, '  Vol': 2, '  Pags': 2, ' feita em 1843': 1, '  com o nome  de  Francisco Costa': 1, ' foi anexada a REFOIOS LIMA': 1, ' Religioso Beneditino': 1, '  com o nome  de  Francisco Peres': 1, ' feita em 1691': 5, ' Bento Coimbra Andrade': 4, ' de seu irmao Luis Costa Taveira': 1, 'feita em 1699': 2, 'Sobrinho Neto': 2, 'Tio Avo': 3, ' Joao Faria Machado': 1, ' em 1707': 1, '   Constantino Jose Bravo Pereira Lago': 1, ' Joaquim Bravo Pereira Lago  e   Jose Maria Bravo Pereira Lago': 1, ' passada pelo Bispado do Porto': 2, ' Manuel Geraldo Sousa  e  Pedro Jose Sousa': 1, 'Irmaos Maternos': 2, 'feita em 1754': 1, ' estudante da Universidade de Coimbra': 2, 'Santa Maria  Braga': 1, ' em 1696': 1, '  com o nome  de  Francisco Carvalho Costa': 1, ' Joao Pereira Lago   e   Miguel Pereira Lago': 1, ' CSB': 1, ' Joao Pereira': 1, ' Manuel Pinto Castro   e   Pedro Pinto Castro': 2, ' em 1705': 1, ' Jose Carlos Araujo Vasconcelos  e  Pedro Antonio Araujo Vasconcelos': 1, ' em 1732': 2, 'Sao Mamede': 2, ' Francisco Varajao Sotomaior  e   Jose Lobo Sotomaior': 2, ' Caetano Jose Maria Pereira Castro  e   Francisco Xavier Caetano Castro Caldas Sotomaior': 1, ' Jose Antonio Vilaca  e  Rodrigo Jose': 3, ' feita em 1746': 2, '  mas a Inquiricao e de Frutuoso Barros': 1, ' em 1720': 1, '  como Gabriel Silva Teixeira': 1, ' em 1709': 1, 'Frei': 1, ' Manuel Falcao Cota e  Pedro Falcao Cota': 2, ' Custodio Jose Martins': 1, 'Sao Jorge': 5, ' feita em 1787': 4, ' Elvas': 1, ' onde aparece em REBORDOES': 1, 'Sao Salvador': 4, ' em 1738': 2, ' em 1717': 2, ' feita em 1743': 2, ' Luis Garcia  e  Manuel Garcia': 1, ' Francisco Antonio Melo  e  Joao Antonio Melo': 1, 'Sao Lourenco': 1, ' com  o  nome  de  Gregorio Bernardes': 1, ' em 1700': 1, '  vai na Inquiricao de seu irmao': 1, ' feita em 1700': 3, 'Sao Cosme e Sao Damiao': 2, ' feita em 1748': 3, ' com o nome de Antonio Rainha Anjos': 1, ' em 1711': 1, ' feita em 1706': 2, ' Jose Abreu Coutinho  e  Francisco Abreu Coutinho': 1, 'Tio': 5, ' Henrique Ventura Castro Barreto Meneses   e   Luis Antonio Castro Azevedo Silva Coutinho': 1, ' na nota do Tabeliao dePonte de Lima': 1, ' Caetano Jose Maria Pereira Castro  e  Francisco Xavier Caetano C': 1, ' Germano Jose Ferreira  e  Joao Marcos Ferreira': 1, ' feita em 1718': 1, ' feita em 1724': 1, ' em1736': 1, ' e Inquiricao de Francisco': 1, 'no Brasil': 2, ' Francisco Xavier Machado Araujo  e  Pedro Jose Machado Araujo': 1, ' Goncalo Cerqueira': 4, ' Luis Cerqueira  e  Manuel Cerqueira': 1, ' feita em 1703': 1, ' em 1699': 1, ' Francisco Faria Machado': 4, ' anos 1697': 2, '1698 e 1699': 2, ' Francisco Manuel Gouveia   e    Pedro Malheiro Gouveia Coutinho Castro': 1, 'Sobrinhos Netos Maternos': 4, ' nao sendo possivel tirar o nome dos Pais': 1, ' em1706': 1, 'Meio Irmao': 3, ' Diogo Antonio Silva': 2, 'Jose Carlos Araujo Vasconcelos  e  Pedro Antonio Araujo Vasconcelos': 1, ' mudou o nome no Crisma para Ana': 1, 'Sobrinho Bisneto Materno': 3, ' em 1716': 2, ' em Guimaraes': 1, ' Jose Peixoto Silva  e  Manuel Peixoto Silva': 1, 'Manuel Pereira  e  Pedro Pereira': 1, ' Francisco Pereira Barreto  e  Miguel Pereira Lago': 1, ' danificada': 8, ' em Lisboa': 1, 'feita em 1707': 1, ' com residencia em AGUA RE': 1, '  Bernardo Jose Rodrigues Castroe  Francisco Jose Luis Portela': 2, ' em 1740': 1, 'Sao Romao': 1, '  Manuel Sousa Teles  e   Matias Ribeiro': 1, '  pertencente ao Fundo Jose Gomes': 1, ' Diogo Sousa Coutinho  ou  Diogo Sousa Pereira Coutinho': 1, ' feita em 1784': 1, ' Goncalo Pereira Lobato Sousa  e   Manuel Salgado Azevedo': 1, ' Miguel Antonio Barreto Meneses  e  Pedro Antonio Barreto Meneses': 1, ' mudou no Crisma para JOAQUIM': 5, ' feita em 1807': 1, ' Jose Carlos   e   Simao Antonio': 2, 'Sao Joao Batista': 1, ' Miguel Joaquim Moreira Sa   e    Rodrigo Antonio Moreira Sa': 1, ' Manuel Pereira Rocha Tinoco  e  Roque Pereira Araujo': 1, ' para se ordenar no Bispado de Lamego': 1, ' Felix Tomas Rocha   e    Tomas Joaquim Rocha': 1, ' em Braga': 1, ' Joao Abreu Coutinho  e  Francisco Abreu Coutinho': 1, ' Jose Antonio Leite  e  Miguel Arcanjo Leite': 1, ' esta indevidamente': 1, ' Joaquim Manuel  e  Rodrigo Jose': 1, ' em1733': 1, ' mudou no Crisma para JOSE': 4, ' Bernardo Jose Rodrigues Castro  e  Francisco Jose Luis Portela': 2, ' feita em 1761': 3, 'feita em 1694': 1, ' Bernardo Alvares Pereira': 1, ' Custodio Teixeira': 1, ' Manuel Fernandes Silva  e  Paulo Fernandes Silva': 2, ' feita em 1792': 1, ' mudou no Crisma para JOSE FRAN': 2, '  Constantino Jose Bravo Pereira Lago': 1, ' Joaquim Bravo Pereira Lago  e  Jose Maria Bravo Pereira Lago': 1, ' Gaspar Miguel Warneken Ribeiro Aguilar  e  Jose Aguilar Warneken': 2, ' dele e irmaos': 1, ' na nota 74': 1, '  do tabeliao': 1, ' de Vila Pouca de Aguiar': 1, ' Francisco Varajao Sotomaior e  Jose Lobo Sotomaior': 1, '  irmao Donato da Provincia da Soledade': 1, 'Primos Maternos': 1, ' Pedro Antonio Sousa e  Tome Jose Sousa': 1, ' feita em 1808': 2, ' em 1712': 3, ' como residente em  ADAUFE': 1, '  Diogo Antonio Silva   e   Matias Silva': 1, ' feita em 1735': 2, ' Joao Peixoto Silva  e  Manuel Peixoto Silva': 1, ' mudou no Crisma para JOSE SANTOS': 1, ' Francisco Silva  e  Manuel Silva': 1, ' Esperanca Antunes': 2, ' Luis Soares Bacelar  e  Pedro Beca Pereira': 1, ' por lapso': 1, ' feita em 1708': 3, 'Casada': 1, ' com o nome de Luis Antonio': 1, 'feita em 1747': 1, ' mudou no Crisma para LUIS ANTO': 2, ' feita em 1714': 2, ' Gaspar Miguel Warneken Ribeiro Aguilar  e   Jose Aguilar Warneken': 2, '  como Luis Vargas Madureira': 1, ' feita em 1750': 1, ' Diogo Sousa Coutinho e  Vicente Sousa Pereira': 1, '  Jacinto Machado Brandao  e  Luis Machado Brandao': 2, 'feita em 1691': 1, ' em 1690': 1, '  feita em 1816': 1, ' em 1687': 2, 'em 1648': 1, ' feita em 1733': 2, ' feita em 1779': 1, ' Gaspar Falcao Cota e  Pedro Falcao Cota': 2, ' em 1702': 1, ' em 1736': 4, ' feita em 1820': 1, ' feita em 1715': 1, ' Francisco Jose Sousa  e  Pedro Jose Sousa': 1, ' como Manuel Cunha': 1, ' Jose Luis Cunha  e  Paulo Carvalho Cunha': 1, ' em 1692': 2, 'Miguel Joaquim Moreira Sa   e   Rodrigo Antonio Moreira Sa': 1, ' Joao Peixoto Silva   e   Jose Peixoto Silva': 1, ' Joao Pereira   e    Pedro Pereira': 1, ' Joaquim Jose Pereira Rocha  e   Roque Pereira Araujo': 1, ' Francisco Pinto Rego': 2, ' Francisco Pinto Rego  e   Pedro Pinto Castro': 2, ' feita em 1699': 1, ' Jose Pinto Ribeiro Seixas  e  Pedro Xavier Ribeiro Seixas': 2, ' feita em 1698': 1, ' muito danificada': 1, ' Francisco Silva  e  Jose Silva': 1, ' em 1744': 1, ' Luis Alvares Cunha Sotomaior  e   Sebastiao Cunha Sotomaior': 2, ' Joao Silva Teles e  Matias Ribeiro': 1, '  Francisco Sales Barbosa Araujo Pereira  e   Luis Caetano Barbosa Araujo Pereira': 2, ' em 1658': 1, ' Joao Silva Teles  e  Manuel Sousa Teles': 1, ' Diogo Antonio Silva   e   Jose Oliveira': 1, ' Joaquim Antonio Barreto Meneses  e Pedro Antonio Barreto Meneses': 2, '  com o nome de Miguel Ferreira': 1, ' mudou no Crisma para MIGUEL': 1, ' Francisco Pereira Barreto   e   Joao Pereira Lago': 1, ' Manuel Pinheiro': 6, '  como Miguel Pereira Afonseca': 1, ' como Miguel Costa Ribeiro': 2, ' freguesia de NOGUEIRA': 1, ' com o nome de Pascoal Lima Carneiro': 1, ' em 1660': 1, ' Joaquim Antonio Barreto Meneses   e   Miguel Antonio Barreto Meneses': 1, ' Jose Manuel Sousa  e   Tome Jose Sousa': 1, ' com o nome de Pedro Ribeiro Araujo': 1, ' Gaspar Falcao Cota   e   Manuel Falcao Cota': 2, ' feita em 1755': 1, ' Francisco Xavier Machado Araujo  e  Joao Carlos Machado Araujo': 1, ' Francisco Jose Sousa  e   Manuel Geraldo Sousa': 1, ' Joao Pereira   e   Manuel Pereira': 1, ' seu parente Proc': 1, ' Francisco Pinto Rego  e  Manuel Pinto Castro': 2, ' GASPAR': 1, ' em 1726': 1, ' Joaquim Manuel   e   Jose Antonio Vilaca': 1, ' mudou no Crisma para RODRIGO': 1, ' Joaquim Jose Pereira Rocha  e  Manuel Pereira Rocha Tinoco': 1, '  como Salvador Borges Moutinho': 1, ' Francisco Araujo Azevedo  e   Luis Araujo Azevedo': 1, ' em 1680': 1, 'em 1707': 1, ' Joao Coimbra Andrade   e   Pedro Coimbra': 1, ' Antonio Brito Brandao   e   Jacinto Jose Brito Brandao': 1, ' Frutuoso Antunes  e  Manuel Antunes': 1, ' Jose Manuel Sousa  e  Pedro Antonio Sousa': 1, ' Diogo Sousa Coutinho': 2, ' Diogo Sousa Coutinho  e  Luis Sousa Guedes': 1}\n"
     ]
    }
   ],
   "source": [
    "def relation():\n",
    "    freq = dict()\n",
    "    \n",
    "    with open(\"processos.txt\") as f:\n",
    "        content = f.readlines()\n",
    "        for line in content:\n",
    "            for rel in re.findall(r\"\\w[\\w\\s]*?,([\\w\\s]+)\", line):\n",
    "                freq[rel] = freq.get(rel, 0) + 1\n",
    "    \n",
    "    return freq\n",
    "\n",
    "print(relation())"
   ]
  },
  {
   "cell_type": "markdown",
   "id": "d1cb3a35-e4d2-4ed9-9b42-0995cf8a076b",
   "metadata": {},
   "source": [
    "d) Converta os 20 primeiros registos num novo ficheiro de output mas em formato **Json**"
   ]
  },
  {
   "cell_type": "code",
   "execution_count": null,
   "id": "bec00b6f-d8fc-4a89-b82f-5e5682a0f3f8",
   "metadata": {},
   "outputs": [],
   "source": []
  }
 ],
 "metadata": {
  "kernelspec": {
   "display_name": "Python 3 (ipykernel)",
   "language": "python",
   "name": "python3"
  },
  "language_info": {
   "codemirror_mode": {
    "name": "ipython",
    "version": 3
   },
   "file_extension": ".py",
   "mimetype": "text/x-python",
   "name": "python",
   "nbconvert_exporter": "python",
   "pygments_lexer": "ipython3",
   "version": "3.11.2"
  }
 },
 "nbformat": 4,
 "nbformat_minor": 5
}
