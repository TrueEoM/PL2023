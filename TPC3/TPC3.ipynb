{
 "cells": [
  {
   "cell_type": "markdown",
   "id": "f4ca5be2-a0f5-443a-9761-abac34923dc0",
   "metadata": {},
   "source": [
    "#TPC3: Processador de Pessoas listadas nos Róis de Confessados\n",
    "\n",
    "(publicado em **2023.02.28**)\n",
    "\n",
    "Construa agora um ou vários programas Python\n",
    "para  processar o texto 'processos.txt' (procurar o ficheiro no Bb) com o intuito de\n",
    "calcular frequências de alguns elementos (a ideia é utilizar arrays associativos, dicionários em Python,\n",
    "para o efeito) conforme solicitado a seguir:\n",
    "\n",
    "> a) Calcula a frequência de processos por ano (primeiro elemento da data);\n",
    "\n",
    "> b) Calcula a frequência de nomes próprios (o primeiro em cada nome) e apelidos (o ultimo em cada nome) por séculos e apresenta os 5 mais usados;\n",
    "\n",
    "> c) Calcula a frequência dos vários tipos de relação: irmão, sobrinho, etc.;\n",
    "\n",
    "> d) Converta os 20 primeiros registos num novo ficheiro de output mas em formato **Json**."
   ]
  },
  {
   "cell_type": "markdown",
   "id": "5d3b956d-7313-47c6-8c72-991d7fe817a0",
   "metadata": {},
   "source": [
    "a) Calcula a frequência de processos por ano (primeiro elemento da data)"
   ]
  },
  {
   "cell_type": "code",
   "execution_count": 61,
   "id": "098df42a-cb55-4630-89b7-3d9d776052c6",
   "metadata": {},
   "outputs": [
    {
     "name": "stdout",
     "output_type": "stream",
     "text": [
      "{1894: 74, 1909: 39, 1867: 54, 1896: 75, 1904: 52, 1901: 59, 1883: 34, 1900: 50, 1902: 83, 1880: 62, 1889: 71, 1908: 51, 1869: 39, 1862: 40, 1906: 63, 1856: 72, 1875: 15, 1892: 57, 1733: 1188, 1778: 1066, 1691: 1084, 1730: 1200, 1899: 80, 1898: 91, 1877: 47, 1910: 27, 1881: 64, 1907: 47, 1884: 44, 1879: 55, 1895: 78, 1897: 71, 1707: 116, 1689: 628, 1713: 266, 1824: 251, 1703: 143, 1720: 172, 1890: 44, 1732: 2217, 1683: 142, 1863: 30, 1729: 47, 1694: 49, 1765: 9, 1754: 303, 1690: 278, 1755: 303, 1823: 213, 1708: 150, 1757: 32, 1699: 97, 1759: 90, 1712: 70, 1687: 97, 1738: 213, 1717: 267, 1684: 238, 1704: 358, 1688: 110, 1888: 70, 1734: 888, 1786: 352, 1798: 56, 1773: 482, 1821: 312, 1822: 303, 1809: 292, 1722: 457, 1680: 158, 1695: 44, 1728: 440, 1716: 238, 1849: 120, 1777: 1142, 1851: 66, 1785: 797, 1857: 80, 1686: 189, 1784: 361, 1780: 218, 1727: 169, 1788: 416, 1719: 387, 1847: 130, 1799: 103, 1829: 162, 1787: 743, 1805: 109, 1819: 242, 1844: 196, 1891: 73, 1731: 900, 1760: 280, 1741: 32, 1725: 272, 1802: 90, 1827: 97, 1885: 8, 1807: 602, 1710: 199, 1692: 246, 1706: 117, 1858: 46, 1739: 74, 1826: 171, 1714: 317, 1762: 342, 1743: 53, 1724: 110, 1697: 28, 1852: 74, 1740: 13, 1855: 86, 1723: 129, 1859: 87, 1811: 237, 1817: 207, 1685: 235, 1905: 42, 1893: 78, 1865: 40, 1848: 125, 1911: 16, 1882: 50, 1735: 153, 1871: 35, 1903: 20, 1850: 115, 1825: 155, 1843: 296, 1860: 77, 1812: 259, 1846: 86, 1845: 127, 1701: 108, 1746: 49, 1868: 22, 1715: 90, 1803: 167, 1830: 174, 1761: 381, 1766: 9, 1672: 17, 1876: 40, 1698: 153, 1726: 85, 1679: 83, 1750: 53, 1711: 75, 1810: 47, 1756: 75, 1721: 135, 1873: 46, 1831: 193, 1781: 208, 1818: 229, 1816: 352, 1783: 309, 1752: 80, 1866: 33, 1747: 58, 1771: 26, 1700: 82, 1682: 106, 1794: 57, 1742: 22, 1887: 42, 1836: 3, 1878: 76, 1886: 46, 1702: 139, 1767: 15, 1709: 148, 1779: 198, 1751: 107, 1681: 101, 1748: 46, 1678: 12, 1839: 85, 1770: 27, 1673: 19, 1792: 46, 1796: 86, 1828: 172, 1736: 47, 1737: 65, 1696: 42, 1853: 90, 1772: 122, 1718: 92, 1776: 36, 1804: 123, 1774: 38, 1832: 301, 1806: 106, 1820: 253, 1808: 311, 1854: 112, 1861: 62, 1833: 194, 1841: 47, 1705: 76, 1872: 42, 1874: 46, 1782: 155, 1693: 28, 1838: 10, 1797: 46, 1660: 1, 1864: 56, 1870: 12, 1744: 41, 1800: 107, 1655: 2, 1795: 55, 1840: 38, 1764: 24, 1763: 29, 1676: 9, 1768: 27, 1753: 37, 1842: 36, 1671: 14, 1801: 58, 1814: 11, 1815: 45, 1758: 22, 1749: 27, 1775: 30, 1745: 47, 1834: 13, 1769: 16, 1793: 45, 1665: 2, 1813: 12, 1635: 1, 1616: 1, 1791: 6, 1631: 2, 1658: 2, 1664: 5, 1789: 12, 1623: 3, 1675: 9, 1677: 6, 1666: 6, 1663: 3, 1674: 3, 1668: 5, 1661: 1, 1630: 4, 1628: 7, 1670: 3, 1633: 2, 1632: 3, 1669: 3, 1636: 1, 1667: 1, 1634: 1, 1625: 2, 1656: 2, 1620: 1, 1629: 1, 1622: 1, 1627: 2, 1790: 1, 1650: 1, 1662: 1}\n"
     ]
    }
   ],
   "source": [
    "import re\n",
    "\n",
    "def proc_by_year():\n",
    "    freq = dict()\n",
    "    \n",
    "    with open(\"processos.txt\") as f:\n",
    "        content = f.readlines()\n",
    "        for line in content:\n",
    "            for x in re.findall(r\"^\\d+::(\\d{4})-[0-1][0-9]-[0-3][0-9]::\", line):\n",
    "                freq[int(x)] = freq.get(int(x), 0) + 1\n",
    "    \n",
    "    return freq\n",
    "\n",
    "print(proc_by_year())"
   ]
  },
  {
   "cell_type": "markdown",
   "id": "49ba048e-f728-4d9c-8dbb-23f3e53ba3bf",
   "metadata": {},
   "source": [
    "b) Calcula a frequência de nomes próprios (o primeiro em cada nome) e apelidos (o ultimo em cada nome) por séculos e apresenta os 5 mais usados"
   ]
  },
  {
   "cell_type": "code",
   "execution_count": 40,
   "id": "e07370a3-3804-4bbf-9818-6f0f63c7da4f",
   "metadata": {
    "tags": []
   },
   "outputs": [
    {
     "name": "stdout",
     "output_type": "stream",
     "text": [
      "Min: 1616\n",
      "Max: 1911\n"
     ]
    }
   ],
   "source": [
    "def min_max_years():\n",
    "    minY = 10000000\n",
    "    maxY = 0\n",
    "    with open(\"processos.txt\") as f:\n",
    "        content = f.readlines()\n",
    "        for line in content:\n",
    "            for year in re.findall(r\"^\\d+::(\\d{4})-[0-1][0-9]-[0-3][0-9]::\", line):\n",
    "                if minY > int(year):\n",
    "                    minY = int(year)\n",
    "                elif maxY < int(year):\n",
    "                    maxY = int(year)\n",
    "    \n",
    "    print(\"Min:\",minY)\n",
    "    print(\"Max:\",maxY)\n",
    "    \n",
    "min_max_years()"
   ]
  },
  {
   "cell_type": "code",
   "execution_count": 59,
   "id": "9c8089c2-3849-4e27-bac1-8d5e3de24179",
   "metadata": {
    "tags": []
   },
   "outputs": [
    {
     "name": "stdout",
     "output_type": "stream",
     "text": [
      "Top 5 First Names by Century\n",
      "17 Century: [('Manuel', 611), ('Joao', 602), ('Antonio', 499), ('Francisco', 423), ('Domingos', 283)]\n",
      "18 Century: [('Manuel', 3893), ('Joao', 3010), ('Antonio', 2864), ('Jose', 2545), ('Francisco', 2103)]\n",
      "19 Century: [('Jose', 2089), ('Antonio', 1838), ('Manuel', 1511), ('Joao', 1270), ('Francisco', 852)]\n",
      "20 Century: [('Antonio', 100), ('Jose', 86), ('Manuel', 83), ('Joao', 34), ('Joaquim', 17)]\n",
      "\n",
      "\n",
      "Top 5 Last Names by Century\n",
      "17 Century: [('Silva', 176), ('Pereira', 169), ('Costa', 149), ('Araujo', 144), ('Carvalho', 109)]\n",
      "18 Century: [('Pereira', 978), ('Silva', 910), ('Costa', 792), ('Carvalho', 726), ('Araujo', 673)]\n",
      "19 Century: [('Pereira', 436), ('Silva', 428), ('Costa', 346), ('Sousa', 304), ('Araujo', 266)]\n",
      "20 Century: [('Silva', 27), ('Costa', 22), ('Oliveira', 16), ('Ferreira', 15), ('Pereira', 14)]\n"
     ]
    }
   ],
   "source": [
    "def top_name():\n",
    "    ranges = []\n",
    "    fnames = dict()\n",
    "    lnames = dict()\n",
    "    for i, x in enumerate(range(1601, 2001, 100)):\n",
    "        ranges.append((x,x+99))\n",
    "        fnames[16 + i] = dict()\n",
    "        lnames[16 + i] = dict()\n",
    "    \n",
    "    with open(\"processos.txt\") as f:\n",
    "        content = f.readlines()\n",
    "        for line in content:\n",
    "            for century, fname, lname in re.findall(r\"^\\d+::(\\d{2})\\d{2}-[0-1][0-9]-[0-3][0-9]::([a-zA-Z]+)[\\s\\w]*?([a-zA-Z]+)::\", line):\n",
    "                fnames[int(century)][fname] = fnames[int(century)].get(fname, 0) + 1\n",
    "                lnames[int(century)][lname] = lnames[int(century)].get(lname, 0) + 1\n",
    "    \n",
    "    print(\"Top 5 First Names by Century\")\n",
    "    for cent in fnames:\n",
    "        sorted_fnames = sorted(fnames[cent].items(), key=lambda x:x[1], reverse=True)\n",
    "        print(cent+1, \"Century:\", sorted_fnames[0:5])\n",
    "    \n",
    "    print(\"\\n\\nTop 5 Last Names by Century\")\n",
    "    for cent in lnames:\n",
    "        sorted_lnames = sorted(lnames[cent].items(), key=lambda x:x[1], reverse=True)\n",
    "        print(cent+1, \"Century:\", sorted_lnames[0:5])\n",
    "\n",
    "top_name()"
   ]
  },
  {
   "cell_type": "markdown",
   "id": "76e9614a-01f8-4d2c-a4c0-b91863be3fdb",
   "metadata": {},
   "source": [
    "c) Calcula a frequência dos vários tipos de relação: irmão, sobrinho, etc."
   ]
  },
  {
   "cell_type": "code",
   "execution_count": 88,
   "id": "387d8534-1b33-42d6-b3aa-2a86bd3eb1c3",
   "metadata": {
    "tags": []
   },
   "outputs": [
    {
     "name": "stdout",
     "output_type": "stream",
     "text": [
      "{'Tio Paterno': 1747, 'Tio Materno': 1786, 'Irmao': 11313, 'Primo Paterno': 153, 'Sobrinho Materno': 1584, 'Pai': 439, 'Sobrinho Paterno': 1546, 'Irmaos': 544, 'Sobrinhos Maternos': 85, 'Filho': 312, 'Irmao Paterno': 440, 'Neto Materno': 39, 'Sobrinhos Paternos': 52, 'Sobrinho Neto Paterno': 88, 'Primo': 586, 'Primo Materno': 205, 'Tio Avo Paterno': 92, 'Irmao Materno': 44, 'Sobrinho Bisneto Paterno': 3, 'Tios Maternos': 18, 'Irmaos Paternos': 20, 'Sobrinho Neto Materno': 138, 'Tio Avo Materno': 143, 'Avo Materno': 37, 'Filhos': 24, 'Avo Paterno': 9, 'Neto Paterno': 8, 'Tio Bisavo Materno': 2, 'Primos': 12, 'Parente': 2, 'Primos Paternos': 1, 'Irmaos Maternos': 4, 'Tios Paternos': 6, 'Sobrinhos Netos Paternos': 2, 'Sobrinho Neto': 2, 'Tio Avo': 2, 'Tio Bisavo Paterno': 1, 'Sobrinhos Netos Maternos': 5, 'Sobrinho Bisneto Materno': 3, 'Primos Maternos': 1}\n"
     ]
    }
   ],
   "source": [
    "def relation():\n",
    "    freq = dict()\n",
    "    \n",
    "    with open(\"processos.txt\") as f:\n",
    "        content = f.readlines()\n",
    "        for line in content:\n",
    "            for rel in re.findall(r\"\\w,(\\w+[\\w\\s]*). Proc\", line):\n",
    "                freq[rel] = freq.get(rel, 0) + 1\n",
    "    \n",
    "    return freq\n",
    "\n",
    "print(relation())"
   ]
  },
  {
   "cell_type": "markdown",
   "id": "d1cb3a35-e4d2-4ed9-9b42-0995cf8a076b",
   "metadata": {},
   "source": [
    "d) Converta os 20 primeiros registos num novo ficheiro de output mas em formato **Json**"
   ]
  },
  {
   "cell_type": "code",
   "execution_count": null,
   "id": "bec00b6f-d8fc-4a89-b82f-5e5682a0f3f8",
   "metadata": {},
   "outputs": [],
   "source": []
  }
 ],
 "metadata": {
  "kernelspec": {
   "display_name": "Python 3 (ipykernel)",
   "language": "python",
   "name": "python3"
  },
  "language_info": {
   "codemirror_mode": {
    "name": "ipython",
    "version": 3
   },
   "file_extension": ".py",
   "mimetype": "text/x-python",
   "name": "python",
   "nbconvert_exporter": "python",
   "pygments_lexer": "ipython3",
   "version": "3.11.2"
  }
 },
 "nbformat": 4,
 "nbformat_minor": 5
}
